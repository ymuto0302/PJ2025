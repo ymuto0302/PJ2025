{
  "nbformat": 4,
  "nbformat_minor": 0,
  "metadata": {
    "colab": {
      "provenance": [],
      "machine_shape": "hm",
      "authorship_tag": "ABX9TyMeP/bclIsKoOy7bUuUV9Hp",
      "include_colab_link": true
    },
    "kernelspec": {
      "name": "python3",
      "display_name": "Python 3"
    },
    "language_info": {
      "name": "python"
    }
  },
  "cells": [
    {
      "cell_type": "markdown",
      "metadata": {
        "id": "view-in-github",
        "colab_type": "text"
      },
      "source": [
        "<a href=\"https://colab.research.google.com/github/ymuto0302/PJ2025/blob/main/CNN_CIFAR10.ipynb\" target=\"_parent\"><img src=\"https://colab.research.google.com/assets/colab-badge.svg\" alt=\"Open In Colab\"/></a>"
      ]
    },
    {
      "cell_type": "markdown",
      "source": [
        "## CNN を用いた CIFAR-10 dataset の分類"
      ],
      "metadata": {
        "id": "MgKbaaoHRbz_"
      }
    },
    {
      "cell_type": "markdown",
      "source": [
        "### CIFAR-10 dataset の可視化"
      ],
      "metadata": {
        "id": "9irz_DZ2PuMW"
      }
    },
    {
      "cell_type": "code",
      "source": [
        "import torch\n",
        "import torchvision\n",
        "import torchvision.transforms as transforms\n",
        "import matplotlib.pyplot as plt!pip install japanize_matplotlib\n",
        "import numpy as np\n",
        "\n",
        "# CIFAR-10のクラス名\n",
        "classes = ('airplane', 'automobile', 'bird', 'cat', 'deer', 'dog', 'frog', 'horse', 'ship', 'truck')\n",
        "\n",
        "# データ変換の定義（正規化なしで可視化用）\n",
        "transform = transforms.Compose([\n",
        "    transforms.ToTensor()\n",
        "])\n",
        "\n",
        "# CIFAR-10データセットの読み込み\n",
        "trainset = torchvision.datasets.CIFAR10(root='./data', train=True,\n",
        "                                        download=True, transform=transform)\n",
        "\n",
        "# データローダーの作成\n",
        "trainloader = torch.utils.data.DataLoader(trainset, batch_size=20,\n",
        "                                         shuffle=True, num_workers=2)\n",
        "\n",
        "def imshow(img, title=None):\n",
        "    \"\"\"テンソル画像を表示する関数\"\"\"\n",
        "    img = img / 2 + 0.5  # 非正規化（不要だが念のため）\n",
        "    npimg = img.numpy()\n",
        "    plt.imshow(np.transpose(npimg, (1, 2, 0)))\n",
        "    if title:\n",
        "        plt.title(title)\n",
        "    plt.axis('off')\n",
        "\n",
        "# 各クラスから1枚ずつ表示する別バージョン\n",
        "print(\"各クラスから1枚ずつの画像表示:\")\n",
        "\n",
        "# 各クラスの画像を1枚ずつ集める\n",
        "class_samples = {}\n",
        "sample_count = 0\n",
        "\n",
        "for images, labels in trainloader:\n",
        "    for i, label in enumerate(labels):\n",
        "        class_name = classes[label.item()]\n",
        "        if class_name not in class_samples:\n",
        "            class_samples[class_name] = images[i]\n",
        "            sample_count += 1\n",
        "            if sample_count == 10:  # 全クラス揃ったら終了\n",
        "                break\n",
        "    if sample_count == 10:\n",
        "        break\n",
        "\n",
        "# 各クラス1枚ずつを2x5のグリッドで表示\n",
        "plt.figure(figsize=(8, 2))\n",
        "for i, (class_name, img) in enumerate(class_samples.items()):\n",
        "    plt.subplot(2, 5, i + 1)\n",
        "    imshow(img, class_name)\n",
        "\n",
        "plt.tight_layout()\n",
        "# plt.suptitle('CIFAR-10 Dataset - One Sample per Class', fontsize=16, y=1.02)\n",
        "plt.show()\n",
        "\n",
        "# データセット情報の出力\n",
        "print(f\"\\nCIFAR-10データセット情報:\")\n",
        "print(f\"訓練データ数: {len(trainset)}\")\n",
        "print(f\"クラス数: {len(classes)}\")\n",
        "print(f\"画像サイズ: {images[0].shape}\")\n",
        "print(f\"クラス名: {classes}\")"
      ],
      "metadata": {
        "id": "dsCfgvfYUe8u"
      },
      "execution_count": null,
      "outputs": []
    },
    {
      "cell_type": "markdown",
      "source": [
        "### ライブラリのインポート"
      ],
      "metadata": {
        "id": "VvFTzCHaPzqQ"
      }
    },
    {
      "cell_type": "code",
      "source": [
        "# 必要なライブラリのインポート\n",
        "import torch\n",
        "import torch.nn as nn\n",
        "import torch.optim as optim\n",
        "import torchvision\n",
        "import torchvision.transforms as transforms\n",
        "import matplotlib.pyplot as plt\n",
        "import numpy as np"
      ],
      "metadata": {
        "id": "GUEfjmweRH1Q"
      },
      "execution_count": 2,
      "outputs": []
    },
    {
      "cell_type": "markdown",
      "source": [
        "### データローダーの生成"
      ],
      "metadata": {
        "id": "LPIhGQQwRjl-"
      }
    },
    {
      "cell_type": "code",
      "source": [
        "# CIFAR-10データの準備\n",
        "def prepare_cifar10_data():\n",
        "    # CIFAR-10のクラス名\n",
        "    classes = ['airplane', 'automobile', 'bird', 'cat', 'deer', 'dog', 'frog', 'horse', 'ship', 'truck']\n",
        "\n",
        "    # データ変換（前処理）\n",
        "    transform_train = transforms.Compose([\n",
        "        transforms.RandomHorizontalFlip(p=0.5),  # 水平反転でデータ拡張\n",
        "        transforms.RandomRotation(10),           # 回転でデータ拡張\n",
        "        transforms.ColorJitter(brightness=0.2, contrast=0.2),  # 色調変更\n",
        "        transforms.ToTensor(),\n",
        "        transforms.Normalize((0.485, 0.456, 0.406), (0.229, 0.224, 0.225))\n",
        "    ])\n",
        "\n",
        "    transform_test = transforms.Compose([\n",
        "        transforms.ToTensor(),\n",
        "        transforms.Normalize((0.485, 0.456, 0.406), (0.229, 0.224, 0.225))\n",
        "    ])\n",
        "\n",
        "    # データセット読み込み\n",
        "    trainset = torchvision.datasets.CIFAR10(\n",
        "        root='./data', train=True, download=True, transform=transform_train\n",
        "    )\n",
        "    testset = torchvision.datasets.CIFAR10(\n",
        "        root='./data', train=False, download=True, transform=transform_test\n",
        "    )\n",
        "\n",
        "    # データローダー\n",
        "    trainloader = torch.utils.data.DataLoader(\n",
        "        trainset, batch_size=128, shuffle=True, num_workers=2\n",
        "    )\n",
        "    testloader = torch.utils.data.DataLoader(\n",
        "        testset, batch_size=128, shuffle=False, num_workers=2\n",
        "    )\n",
        "\n",
        "    print(f\"訓練データ数: {len(trainset)}\")\n",
        "    print(f\"テストデータ数: {len(testset)}\")\n",
        "\n",
        "    return trainloader, testloader, classes\n",
        "\n",
        "# データローダーの生成\n",
        "trainloader, testloader, classes = prepare_cifar10_data()"
      ],
      "metadata": {
        "id": "XRu6mEBpRG2B"
      },
      "execution_count": null,
      "outputs": []
    },
    {
      "cell_type": "markdown",
      "source": [
        "### モデルの定義"
      ],
      "metadata": {
        "id": "Tng_qvS7Rnel"
      }
    },
    {
      "cell_type": "code",
      "source": [
        "# CNN モデルの定義\n",
        "class CIFAR10_CNN(nn.Module):\n",
        "    def __init__(self):\n",
        "        super(CIFAR10_CNN, self).__init__()\n",
        "\n",
        "        # 特徴抽出部\n",
        "        self.features = nn.Sequential(\n",
        "            # 第1ブロック: 32×32×3 → 16×16×32\n",
        "            nn.Conv2d(3, 32, kernel_size=3, padding=1), # 畳み込み\n",
        "            nn.BatchNorm2d(32),  # バッチ正規化\n",
        "            nn.ReLU(inplace=True), # 活性化関数\n",
        "            nn.MaxPool2d(kernel_size=2, stride=2), # プーリング\n",
        "\n",
        "            # 第2ブロック: 16×16×32 → 8×8×64\n",
        "            nn.Conv2d(32, 64, kernel_size=3, padding=1),\n",
        "            nn.BatchNorm2d(64),\n",
        "            nn.ReLU(inplace=True),\n",
        "            nn.MaxPool2d(kernel_size=2, stride=2),\n",
        "\n",
        "            # 第3ブロック: 8×8×64 → 4×4×128\n",
        "            nn.Conv2d(64, 128, kernel_size=3, padding=1),\n",
        "            nn.BatchNorm2d(128),\n",
        "            nn.ReLU(inplace=True),\n",
        "            nn.MaxPool2d(kernel_size=2, stride=2),\n",
        "        )\n",
        "\n",
        "        # 分類部\n",
        "        self.classifier = nn.Sequential(\n",
        "            nn.Dropout(0.5),     # ドロップアウト\n",
        "            nn.Linear(128 * 4 * 4, 512),\n",
        "            nn.ReLU(inplace=True),\n",
        "            nn.Dropout(0.5),\n",
        "            nn.Linear(512, 10)\n",
        "        )\n",
        "\n",
        "    def forward(self, x):\n",
        "        x = self.features(x)\n",
        "        # x = x.view(x.size(0), -1)  # 平坦化\n",
        "        x = x.reshape((x.size(0), -1))  # 平坦化\n",
        "        x = self.classifier(x)\n",
        "        return x"
      ],
      "metadata": {
        "id": "8igOf1SBRu6t"
      },
      "execution_count": 4,
      "outputs": []
    },
    {
      "cell_type": "markdown",
      "source": [
        "### モデルの学習"
      ],
      "metadata": {
        "id": "xwT3_hn5RuRA"
      }
    },
    {
      "cell_type": "code",
      "source": [
        "# モデルのインスタンス化\n",
        "model = CIFAR10_CNN()\n",
        "print(model)\n",
        "\n",
        "# (参考) パラメータ数確認\n",
        "total_params = sum(p.numel() for p in model.parameters())\n",
        "print(f\"\\n(参考)モデルに含まれる総パラメータ数: {total_params:,}\")\n",
        "\n",
        "# 損失関数 ＆ 最適化アルゴリズム\n",
        "criterion = nn.CrossEntropyLoss()\n",
        "optimizer = optim.Adam(model.parameters(), lr=0.001, weight_decay=1e-4)\n",
        "\n",
        "# 学習ループ\n",
        "def train_cifar10_cnn(num_epochs=5):\n",
        "    print(f\"\\n=== 学習開始 ===\")\n",
        "\n",
        "    train_losses = []\n",
        "    train_accuracies = []\n",
        "\n",
        "    for epoch in range(num_epochs):\n",
        "        model.train()\n",
        "        running_loss = 0.0\n",
        "        correct = 0\n",
        "        total = 0\n",
        "\n",
        "        print(f\"\\nエポック {epoch+1}/{num_epochs}\")\n",
        "        print(\"------------------------------\")\n",
        "\n",
        "        for i, (inputs, labels) in enumerate(trainloader):\n",
        "            optimizer.zero_grad()\n",
        "\n",
        "            outputs = model(inputs)\n",
        "            loss = criterion(outputs, labels)\n",
        "            loss.backward()\n",
        "            optimizer.step()\n",
        "\n",
        "            running_loss += loss.item()\n",
        "            _, predicted = torch.max(outputs.data, 1)\n",
        "            total += labels.size(0)\n",
        "            correct += (predicted == labels).sum().item()\n",
        "\n",
        "            if (i + 1) % 100 == 0:\n",
        "                print(f\"バッチ [{i+1}/{len(trainloader)}], 損失: {loss.item():.4f}, 正解率: {100*correct/total:.2f}%\")\n",
        "\n",
        "        # エポック終了時の統計\n",
        "        epoch_loss = running_loss / len(trainloader)\n",
        "        epoch_acc = correct / total * 100\n",
        "\n",
        "        train_losses.append(epoch_loss)\n",
        "        train_accuracies.append(epoch_acc)\n",
        "\n",
        "        print(f\"エポック {epoch+1} : 平均損失: {epoch_loss:.4f} 正解率: {epoch_acc:.2f}%\")\n",
        "\n",
        "    return train_losses, train_accuracies\n",
        "\n",
        "# モデルの学習\n",
        "train_losses, train_accuracies = train_cifar10_cnn(num_epochs=5)"
      ],
      "metadata": {
        "id": "ga9A_cSuxXnI"
      },
      "execution_count": null,
      "outputs": []
    },
    {
      "cell_type": "markdown",
      "source": [
        "### テストデータを与えて，モデルを評価"
      ],
      "metadata": {
        "id": "xFhMDwyBR0wE"
      }
    },
    {
      "cell_type": "code",
      "source": [
        "# テスト評価\n",
        "def evaluate_cifar10_cnn():\n",
        "    print(f\"\\n=== テスト開始 ===\")\n",
        "\n",
        "    model.eval() # 評価モードに設定\n",
        "    correct = 0 # 正解数を記録\n",
        "    total = 0\n",
        "    class_correct = list(0.0 for i in range(10)) # [0.0, 0.0, ..., 0.0] のリストを作る\n",
        "    class_total = list(0.0 for i in range(10))\n",
        "\n",
        "    with torch.no_grad(): # モデルの重みを更新しない\n",
        "        for inputs, labels in testloader:\n",
        "            outputs = model(inputs)\n",
        "            _, predicted = torch.max(outputs, 1)\n",
        "            total += labels.size(0)\n",
        "            correct += (predicted == labels).sum().item()\n",
        "\n",
        "            # クラス別の精度を計算\n",
        "            c = (predicted == labels).squeeze()\n",
        "            for i in range(labels.size(0)):\n",
        "                label = labels[i]\n",
        "                class_correct[label] += c[i].item()\n",
        "                class_total[label] += 1\n",
        "\n",
        "    overall_accuracy = 100 * correct / total\n",
        "    print(f\"全体テスト精度: {overall_accuracy:.2f}%\")\n",
        "\n",
        "    print('\\nクラス別精度:')\n",
        "    for i in range(10):\n",
        "        accuracy = 100 * class_correct[i] / class_total[i] if class_total[i] > 0 else 0\n",
        "        print(f'{classes[i]}: {accuracy:.2f}%')\n",
        "\n",
        "    return overall_accuracy\n",
        "\n",
        "final_accuracy = evaluate_cifar10_cnn()"
      ],
      "metadata": {
        "id": "9m4mHFmQQ865"
      },
      "execution_count": null,
      "outputs": []
    },
    {
      "cell_type": "markdown",
      "source": [
        "### 学習曲線の可視化"
      ],
      "metadata": {
        "id": "14G_46ASR6sV"
      }
    },
    {
      "cell_type": "code",
      "source": [
        "# 学習曲線の可視化\n",
        "def plot_training_curves():\n",
        "    plt.figure(figsize=(12, 4))\n",
        "\n",
        "    plt.subplot(1, 2, 1)\n",
        "    plt.plot(train_losses)\n",
        "    plt.title('Training Loss')\n",
        "    plt.xlabel('Epoch')\n",
        "    plt.ylabel('Loss')\n",
        "    plt.grid(True)\n",
        "\n",
        "    plt.subplot(1, 2, 2)\n",
        "    plt.plot(train_accuracies)\n",
        "    plt.title('Training Accuracy')\n",
        "    plt.xlabel('Epoch')\n",
        "    plt.ylabel('Accuracy (%)')\n",
        "    plt.grid(True)\n",
        "\n",
        "    plt.tight_layout()\n",
        "    plt.show()\n",
        "\n",
        "plot_training_curves()"
      ],
      "metadata": {
        "id": "FSbYEdabQ521"
      },
      "execution_count": null,
      "outputs": []
    },
    {
      "cell_type": "code",
      "source": [],
      "metadata": {
        "id": "hvHo9oUsVh-H"
      },
      "execution_count": null,
      "outputs": []
    }
  ]
}