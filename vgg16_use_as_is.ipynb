{
  "nbformat": 4,
  "nbformat_minor": 0,
  "metadata": {
    "colab": {
      "provenance": [],
      "authorship_tag": "ABX9TyPlChmFn+NcUz52tIOnfT5a",
      "include_colab_link": true
    },
    "kernelspec": {
      "name": "python3",
      "display_name": "Python 3"
    },
    "language_info": {
      "name": "python"
    }
  },
  "cells": [
    {
      "cell_type": "markdown",
      "metadata": {
        "id": "view-in-github",
        "colab_type": "text"
      },
      "source": [
        "<a href=\"https://colab.research.google.com/github/ymuto0302/PJ2025/blob/main/vgg16_use_as_is.ipynb\" target=\"_parent\"><img src=\"https://colab.research.google.com/assets/colab-badge.svg\" alt=\"Open In Colab\"/></a>"
      ]
    },
    {
      "cell_type": "markdown",
      "source": [
        "## VGG16モデルをそのまま使って画像分類\n",
        "- ImageNet データセットで学習済みの VGG16モデルをロード\n",
        "- \"example.png\" という画像ファイルを読み込み\n",
        "- 画像を 224×224 ピクセルにリサイズ・正規化などの前処理を実行\n",
        "- モデルに画像データを入力して，1000クラスの中から最も確率の高いクラスを予測\n",
        "- 予測されたクラス番号とクラス名を出力\n",
        "\n",
        "(注意) 予め example.png を Google Colab へアップする必要がある。"
      ],
      "metadata": {
        "id": "n00CoZ5YUH7Z"
      }
    },
    {
      "cell_type": "code",
      "execution_count": 1,
      "metadata": {
        "colab": {
          "base_uri": "https://localhost:8080/"
        },
        "id": "jJYXCYUuTRPc",
        "outputId": "a3348dfc-498a-43cf-82a8-8001f3b780c9"
      },
      "outputs": [
        {
          "output_type": "stream",
          "name": "stderr",
          "text": [
            "Downloading: \"https://download.pytorch.org/models/vgg16-397923af.pth\" to /root/.cache/torch/hub/checkpoints/vgg16-397923af.pth\n",
            "100%|██████████| 528M/528M [00:08<00:00, 69.1MB/s]\n"
          ]
        },
        {
          "output_type": "stream",
          "name": "stdout",
          "text": [
            "予測クラス番号: 285\n",
            "予測クラス名: Egyptian cat\n"
          ]
        }
      ],
      "source": [
        "import torch\n",
        "import torchvision.models as models\n",
        "import torchvision.transforms as transforms\n",
        "from PIL import Image\n",
        "\n",
        "# VGG16の重みオブジェクトを取得\n",
        "weights = models.VGG16_Weights.IMAGENET1K_V1\n",
        "\n",
        "# クラス名を取得\n",
        "class_names = weights.meta[\"categories\"]\n",
        "\n",
        "# モデルをロード\n",
        "model = models.vgg16(weights=weights)\n",
        "model.eval()\n",
        "\n",
        "# 画像の前処理を定義\n",
        "preprocess = transforms.Compose([\n",
        "    transforms.Resize(256),\n",
        "    transforms.CenterCrop(224),\n",
        "    transforms.ToTensor(),\n",
        "    transforms.Normalize(mean=[0.485, 0.456, 0.406],\n",
        "                        std=[0.229, 0.224, 0.225]),\n",
        "])\n",
        "\n",
        "# 画像を読み込んで前処理\n",
        "img = Image.open(\"example.png\")\n",
        "img_tensor = preprocess(img).unsqueeze(0)\n",
        "\n",
        "# 予測実行\n",
        "with torch.no_grad():\n",
        "    output = model(img_tensor)\n",
        "    _, predicted = torch.max(output, 1)\n",
        "\n",
        "predicted = predicted.item()\n",
        "print(f\"予測クラス番号: {predicted}\")\n",
        "print(f\"予測クラス名: {class_names[predicted]}\")"
      ]
    }
  ]
}