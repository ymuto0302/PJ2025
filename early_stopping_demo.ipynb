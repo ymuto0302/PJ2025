{
  "nbformat": 4,
  "nbformat_minor": 0,
  "metadata": {
    "colab": {
      "provenance": [],
      "gpuType": "A100",
      "machine_shape": "hm",
      "authorship_tag": "ABX9TyMqXnHeWTsRrBti9BWAq60E",
      "include_colab_link": true
    },
    "kernelspec": {
      "name": "python3",
      "display_name": "Python 3"
    },
    "language_info": {
      "name": "python"
    },
    "accelerator": "GPU"
  },
  "cells": [
    {
      "cell_type": "markdown",
      "metadata": {
        "id": "view-in-github",
        "colab_type": "text"
      },
      "source": [
        "<a href=\"https://colab.research.google.com/github/ymuto0302/PJ2025/blob/main/early_stopping_demo.ipynb\" target=\"_parent\"><img src=\"https://colab.research.google.com/assets/colab-badge.svg\" alt=\"Open In Colab\"/></a>"
      ]
    },
    {
      "cell_type": "markdown",
      "source": [
        "## 早期停止(early stopping)のデモ"
      ],
      "metadata": {
        "id": "2hjUvbupr-8B"
      }
    },
    {
      "cell_type": "markdown",
      "source": [
        "### 必要なライブラリのインポート"
      ],
      "metadata": {
        "id": "x4m3Z1I8ZI56"
      }
    },
    {
      "cell_type": "code",
      "source": [
        "import torch\n",
        "import torch.nn as nn\n",
        "import torch.optim as optim\n",
        "import torch.nn.functional as F\n",
        "from torch.utils.data import DataLoader, random_split\n",
        "import torchvision\n",
        "import torchvision.transforms as transforms\n",
        "import numpy as np\n",
        "import matplotlib.pyplot as plt\n",
        "from sklearn.metrics import accuracy_score\n",
        "import random\n",
        "\n",
        "# デバイスの設定\n",
        "device = torch.device('cuda' if torch.cuda.is_available() else 'cpu')\n",
        "print(f'Using device: {device}')"
      ],
      "metadata": {
        "id": "PS7DzjJ3HSEv",
        "colab": {
          "base_uri": "https://localhost:8080/"
        },
        "outputId": "0b7d9580-4d55-43e4-9d9c-a5fb4dcaedd5"
      },
      "execution_count": 1,
      "outputs": [
        {
          "output_type": "stream",
          "name": "stdout",
          "text": [
            "Using device: cuda\n"
          ]
        }
      ]
    },
    {
      "cell_type": "markdown",
      "source": [
        "### データローダーの準備"
      ],
      "metadata": {
        "id": "2MH-KCF3ZPIR"
      }
    },
    {
      "cell_type": "code",
      "source": [
        "# データの前処理\n",
        "transform_train = transforms.Compose([\n",
        "    transforms.RandomHorizontalFlip(p=0.5),\n",
        "    transforms.RandomCrop(32, padding=4),\n",
        "    transforms.RandomRotation(15),\n",
        "    transforms.ToTensor(),\n",
        "    transforms.Normalize((0.4914, 0.4822, 0.4465), (0.2023, 0.1994, 0.2010))\n",
        "])\n",
        "\n",
        "transform_test = transforms.Compose([\n",
        "    transforms.ToTensor(),\n",
        "    transforms.Normalize((0.4914, 0.4822, 0.4465), (0.2023, 0.1994, 0.2010))\n",
        "])\n",
        "\n",
        "# CIFAR-10データセットの読み込み\n",
        "full_trainset = torchvision.datasets.CIFAR10(root='./data', train=True,\n",
        "                                           download=True, transform=transform_train)\n",
        "testset = torchvision.datasets.CIFAR10(root='./data', train=False,\n",
        "                                      download=True, transform=transform_test)\n",
        "\n",
        "# 訓練データを訓練用と検証用に分割（全データの80%を訓練用、20%を検証用）\n",
        "train_size = int(0.8 * len(full_trainset))\n",
        "val_size = len(full_trainset) - train_size\n",
        "\n",
        "# 再現性のためのシード設定\n",
        "torch.manual_seed(42)\n",
        "train_dataset, val_dataset = random_split(full_trainset, [train_size, val_size])\n",
        "\n",
        "print(f'Full training samples: {len(full_trainset)}')\n",
        "print(f'Training samples: {len(train_dataset)}')\n",
        "print(f'Validation samples: {len(val_dataset)}')\n",
        "print(f'Test samples: {len(testset)}')\n",
        "\n",
        "# データローダーの作成\n",
        "batch_size = 128  # フルデータセット用にバッチサイズを大きく設定\n",
        "trainloader = DataLoader(train_dataset, batch_size=batch_size, shuffle=True, num_workers=2)\n",
        "valloader = DataLoader(val_dataset, batch_size=batch_size, shuffle=False, num_workers=2)\n",
        "testloader = DataLoader(testset, batch_size=batch_size, shuffle=False, num_workers=2)"
      ],
      "metadata": {
        "id": "0AR1I1aXHSBe",
        "colab": {
          "base_uri": "https://localhost:8080/"
        },
        "outputId": "7bf46f15-3de4-406b-b27d-a23c79706393"
      },
      "execution_count": 2,
      "outputs": [
        {
          "output_type": "stream",
          "name": "stderr",
          "text": [
            "100%|██████████| 170M/170M [00:14<00:00, 11.6MB/s]\n"
          ]
        },
        {
          "output_type": "stream",
          "name": "stdout",
          "text": [
            "Full training samples: 50000\n",
            "Training samples: 40000\n",
            "Validation samples: 10000\n",
            "Test samples: 10000\n"
          ]
        }
      ]
    },
    {
      "cell_type": "markdown",
      "source": [
        "### モデルの定義"
      ],
      "metadata": {
        "id": "aGEzoLdoZX-x"
      }
    },
    {
      "cell_type": "code",
      "source": [
        "# CNNモデルの定義\n",
        "class ImprovedCNN(nn.Module):\n",
        "    def __init__(self, num_classes=10):\n",
        "        super(ImprovedCNN, self).__init__()\n",
        "\n",
        "        # 第1ブロック\n",
        "        self.conv1_1 = nn.Conv2d(3, 64, kernel_size=3, padding=1)\n",
        "        self.conv1_2 = nn.Conv2d(64, 64, kernel_size=3, padding=1)\n",
        "        self.bn1 = nn.BatchNorm2d(64)\n",
        "\n",
        "        # 第2ブロック\n",
        "        self.conv2_1 = nn.Conv2d(64, 128, kernel_size=3, padding=1)\n",
        "        self.conv2_2 = nn.Conv2d(128, 128, kernel_size=3, padding=1)\n",
        "        self.bn2 = nn.BatchNorm2d(128)\n",
        "\n",
        "        # 第3ブロック\n",
        "        self.conv3_1 = nn.Conv2d(128, 256, kernel_size=3, padding=1)\n",
        "        self.conv3_2 = nn.Conv2d(256, 256, kernel_size=3, padding=1)\n",
        "        self.bn3 = nn.BatchNorm2d(256)\n",
        "\n",
        "        # 第4ブロック\n",
        "        self.conv4_1 = nn.Conv2d(256, 512, kernel_size=3, padding=1)\n",
        "        self.conv4_2 = nn.Conv2d(512, 512, kernel_size=3, padding=1)\n",
        "        self.bn4 = nn.BatchNorm2d(512)\n",
        "\n",
        "        self.pool = nn.MaxPool2d(2, 2)\n",
        "        self.dropout = nn.Dropout(0.5)\n",
        "        self.adaptive_pool = nn.AdaptiveAvgPool2d((1, 1))\n",
        "\n",
        "        # 全結合層\n",
        "        self.fc1 = nn.Linear(512, 256)\n",
        "        self.fc2 = nn.Linear(256, num_classes)\n",
        "\n",
        "    def forward(self, x):\n",
        "        # 第1ブロック\n",
        "        x = F.relu(self.conv1_1(x))\n",
        "        x = F.relu(self.conv1_2(x))\n",
        "        x = self.bn1(x)\n",
        "        x = self.pool(x)\n",
        "\n",
        "        # 第2ブロック\n",
        "        x = F.relu(self.conv2_1(x))\n",
        "        x = F.relu(self.conv2_2(x))\n",
        "        x = self.bn2(x)\n",
        "        x = self.pool(x)\n",
        "\n",
        "        # 第3ブロック\n",
        "        x = F.relu(self.conv3_1(x))\n",
        "        x = F.relu(self.conv3_2(x))\n",
        "        x = self.bn3(x)\n",
        "        x = self.pool(x)\n",
        "\n",
        "        # 第4ブロック\n",
        "        x = F.relu(self.conv4_1(x))\n",
        "        x = F.relu(self.conv4_2(x))\n",
        "        x = self.bn4(x)\n",
        "        x = self.pool(x)\n",
        "\n",
        "        # Global Average Pooling\n",
        "        x = self.adaptive_pool(x)\n",
        "        x = x.view(x.size(0), -1)\n",
        "\n",
        "        # 全結合層\n",
        "        x = F.relu(self.fc1(x))\n",
        "        x = self.dropout(x)\n",
        "        x = self.fc2(x)\n",
        "        return x"
      ],
      "metadata": {
        "id": "K0lcPAHHHR0W"
      },
      "execution_count": 3,
      "outputs": []
    },
    {
      "cell_type": "markdown",
      "source": [
        "### Patience アルゴリズムの実装"
      ],
      "metadata": {
        "id": "2jglDeUaZcgc"
      }
    },
    {
      "cell_type": "code",
      "source": [
        "# 早期停止クラス : Patience アルゴリズムの実装\n",
        "class EarlyStopping:\n",
        "    def __init__(self, patience=15, min_delta=0.001, restore_best_weights=True):\n",
        "        self.patience = patience\n",
        "        self.min_delta = min_delta\n",
        "        self.restore_best_weights = restore_best_weights\n",
        "        self.best_loss = None\n",
        "        self.counter = 0\n",
        "        self.best_weights = None\n",
        "\n",
        "    def __call__(self, val_loss, model):\n",
        "        if self.best_loss is None:\n",
        "            self.best_loss = val_loss\n",
        "            self.save_checkpoint(model)\n",
        "        elif val_loss < self.best_loss - self.min_delta:\n",
        "            self.best_loss = val_loss\n",
        "            self.counter = 0\n",
        "            self.save_checkpoint(model)\n",
        "        else:\n",
        "            self.counter += 1\n",
        "\n",
        "        if self.counter >= self.patience:\n",
        "            if self.restore_best_weights:\n",
        "                model.load_state_dict(self.best_weights)\n",
        "            return True\n",
        "        return False\n",
        "\n",
        "    def save_checkpoint(self, model):\n",
        "        self.best_weights = model.state_dict().copy()"
      ],
      "metadata": {
        "id": "hHLelwYjHj3m"
      },
      "execution_count": 4,
      "outputs": []
    },
    {
      "cell_type": "markdown",
      "source": [
        "### モデル，損失関数，最適化アルゴリズム，学習率スケジューリング，早期停止の設定"
      ],
      "metadata": {
        "id": "u12C4mFfZh5s"
      }
    },
    {
      "cell_type": "code",
      "source": [
        "# モデル，損失関数，最適化アルゴリズムの設定\n",
        "model = ImprovedCNN().to(device)\n",
        "criterion = nn.CrossEntropyLoss()\n",
        "optimizer = optim.Adam(model.parameters(), lr=0.001, weight_decay=1e-4)\n",
        "\n",
        "# コサインアニーリングスケジューラー\n",
        "scheduler = optim.lr_scheduler.CosineAnnealingLR(optimizer, T_max=50, eta_min=1e-6)\n",
        "\n",
        "# 早期停止の設定\n",
        "early_stopping = EarlyStopping(patience=15, min_delta=0.001)"
      ],
      "metadata": {
        "id": "ZfnJABxlHqCp"
      },
      "execution_count": 5,
      "outputs": []
    },
    {
      "cell_type": "markdown",
      "source": [
        "### モデルの学習（訓練）\n",
        "このコードでは最大200エポックの学習を行うよう設定されているが，早期停止により適当なタイミングで学習が停止する。"
      ],
      "metadata": {
        "id": "QyW50NMsZrsi"
      }
    },
    {
      "cell_type": "code",
      "source": [
        "# 訓練履歴を記録するリスト\n",
        "train_losses = []\n",
        "val_losses = []\n",
        "train_accuracies = []\n",
        "val_accuracies = []\n",
        "\n",
        "# 訓練ループ\n",
        "def train_model(model, trainloader, valloader, criterion, optimizer, scheduler, early_stopping, epochs=200):\n",
        "    best_val_acc = 0.0\n",
        "\n",
        "    for epoch in range(epochs):\n",
        "        # 訓練フェーズ\n",
        "        model.train()\n",
        "        running_loss = 0.0\n",
        "        correct_train = 0\n",
        "        total_train = 0\n",
        "\n",
        "        for batch_idx, (inputs, targets) in enumerate(trainloader):\n",
        "            inputs, targets = inputs.to(device), targets.to(device)\n",
        "\n",
        "            optimizer.zero_grad()\n",
        "            outputs = model(inputs)\n",
        "            loss = criterion(outputs, targets)\n",
        "            loss.backward()\n",
        "            optimizer.step()\n",
        "\n",
        "            running_loss += loss.item()\n",
        "            _, predicted = outputs.max(1)\n",
        "            total_train += targets.size(0)\n",
        "            correct_train += predicted.eq(targets).sum().item()\n",
        "\n",
        "            '''\n",
        "            # プログレス表示（大きなデータセットのため）\n",
        "            if batch_idx % 100 == 0:\n",
        "                print(f'Epoch {epoch+1}, Batch {batch_idx}/{len(trainloader)}, '\n",
        "                      f'Loss: {loss.item():.4f}')\n",
        "            '''\n",
        "\n",
        "        train_loss = running_loss / len(trainloader)\n",
        "        train_acc = 100. * correct_train / total_train\n",
        "\n",
        "        # 検証フェーズ\n",
        "        model.eval()\n",
        "        val_loss = 0.0\n",
        "        correct_val = 0\n",
        "        total_val = 0\n",
        "\n",
        "        with torch.no_grad():\n",
        "            for inputs, targets in valloader:\n",
        "                inputs, targets = inputs.to(device), targets.to(device)\n",
        "                outputs = model(inputs)\n",
        "                loss = criterion(outputs, targets)\n",
        "\n",
        "                val_loss += loss.item()\n",
        "                _, predicted = outputs.max(1)\n",
        "                total_val += targets.size(0)\n",
        "                correct_val += predicted.eq(targets).sum().item()\n",
        "\n",
        "        val_loss /= len(valloader)\n",
        "        val_acc = 100. * correct_val / total_val\n",
        "\n",
        "        # 履歴の記録\n",
        "        train_losses.append(train_loss)\n",
        "        val_losses.append(val_loss)\n",
        "        train_accuracies.append(train_acc)\n",
        "        val_accuracies.append(val_acc)\n",
        "\n",
        "        # 学習率スケジューラーの更新\n",
        "        scheduler.step()\n",
        "\n",
        "        # 最高精度の更新\n",
        "        if val_acc > best_val_acc:\n",
        "            best_val_acc = val_acc\n",
        "\n",
        "        print(f'Epoch {epoch+1:3d}: Train Loss: {train_loss:.4f}, Train Acc: {train_acc:.2f}%, '\n",
        "              f'Val Loss: {val_loss:.4f}, Val Acc: {val_acc:.2f}%, '\n",
        "              f'Best Val Acc: {best_val_acc:.2f}%, LR: {optimizer.param_groups[0][\"lr\"]:.6f}')\n",
        "\n",
        "        # 早期停止の判定\n",
        "        if early_stopping(val_loss, model):\n",
        "            print(f'Early stopping at epoch {epoch+1}')\n",
        "            print(f'Best validation accuracy: {best_val_acc:.2f}%')\n",
        "            break\n",
        "\n",
        "    return model\n",
        "\n",
        "# モデルの訓練\n",
        "print(\"Starting training with full CIFAR-10 dataset...\")\n",
        "print(\"This may take a while depending on your hardware...\")\n",
        "model = train_model(model, trainloader, valloader, criterion, optimizer, scheduler, early_stopping)\n"
      ],
      "metadata": {
        "colab": {
          "base_uri": "https://localhost:8080/"
        },
        "id": "p2JselMqYnXC",
        "outputId": "60212b79-9ac8-4c06-8bb3-e69cad428558"
      },
      "execution_count": 6,
      "outputs": [
        {
          "output_type": "stream",
          "name": "stdout",
          "text": [
            "Starting training with full CIFAR-10 dataset...\n",
            "This may take a while depending on your hardware...\n",
            "Epoch   1: Train Loss: 1.5761, Train Acc: 41.79%, Val Loss: 1.3742, Val Acc: 51.16%, Best Val Acc: 51.16%, LR: 0.000999\n",
            "Epoch   2: Train Loss: 1.1435, Train Acc: 59.33%, Val Loss: 1.0700, Val Acc: 61.83%, Best Val Acc: 61.83%, LR: 0.000996\n",
            "Epoch   3: Train Loss: 0.9447, Train Acc: 67.25%, Val Loss: 0.8352, Val Acc: 70.40%, Best Val Acc: 70.40%, LR: 0.000991\n",
            "Epoch   4: Train Loss: 0.8103, Train Acc: 72.20%, Val Loss: 0.8436, Val Acc: 71.10%, Best Val Acc: 71.10%, LR: 0.000984\n",
            "Epoch   5: Train Loss: 0.7294, Train Acc: 75.28%, Val Loss: 0.7343, Val Acc: 74.30%, Best Val Acc: 74.30%, LR: 0.000976\n",
            "Epoch   6: Train Loss: 0.6637, Train Acc: 77.47%, Val Loss: 0.7018, Val Acc: 75.25%, Best Val Acc: 75.25%, LR: 0.000965\n",
            "Epoch   7: Train Loss: 0.6131, Train Acc: 79.39%, Val Loss: 0.6392, Val Acc: 78.05%, Best Val Acc: 78.05%, LR: 0.000952\n",
            "Epoch   8: Train Loss: 0.5715, Train Acc: 80.61%, Val Loss: 0.6161, Val Acc: 78.85%, Best Val Acc: 78.85%, LR: 0.000938\n",
            "Epoch   9: Train Loss: 0.5336, Train Acc: 81.95%, Val Loss: 0.5681, Val Acc: 80.85%, Best Val Acc: 80.85%, LR: 0.000922\n",
            "Epoch  10: Train Loss: 0.5062, Train Acc: 82.94%, Val Loss: 0.5681, Val Acc: 80.68%, Best Val Acc: 80.85%, LR: 0.000905\n",
            "Epoch  11: Train Loss: 0.4821, Train Acc: 83.93%, Val Loss: 0.5314, Val Acc: 82.25%, Best Val Acc: 82.25%, LR: 0.000885\n",
            "Epoch  12: Train Loss: 0.4619, Train Acc: 84.67%, Val Loss: 0.5576, Val Acc: 81.35%, Best Val Acc: 82.25%, LR: 0.000865\n",
            "Epoch  13: Train Loss: 0.4361, Train Acc: 85.34%, Val Loss: 0.5129, Val Acc: 82.23%, Best Val Acc: 82.25%, LR: 0.000842\n",
            "Epoch  14: Train Loss: 0.4244, Train Acc: 85.79%, Val Loss: 0.4794, Val Acc: 83.58%, Best Val Acc: 83.58%, LR: 0.000819\n",
            "Epoch  15: Train Loss: 0.3953, Train Acc: 86.85%, Val Loss: 0.4735, Val Acc: 83.80%, Best Val Acc: 83.80%, LR: 0.000794\n",
            "Epoch  16: Train Loss: 0.3804, Train Acc: 87.09%, Val Loss: 0.4979, Val Acc: 83.46%, Best Val Acc: 83.80%, LR: 0.000768\n",
            "Epoch  17: Train Loss: 0.3542, Train Acc: 87.78%, Val Loss: 0.4592, Val Acc: 84.26%, Best Val Acc: 84.26%, LR: 0.000741\n",
            "Epoch  18: Train Loss: 0.3433, Train Acc: 88.31%, Val Loss: 0.4628, Val Acc: 84.65%, Best Val Acc: 84.65%, LR: 0.000713\n",
            "Epoch  19: Train Loss: 0.3286, Train Acc: 88.97%, Val Loss: 0.4676, Val Acc: 84.68%, Best Val Acc: 84.68%, LR: 0.000684\n",
            "Epoch  20: Train Loss: 0.3156, Train Acc: 89.27%, Val Loss: 0.4522, Val Acc: 85.21%, Best Val Acc: 85.21%, LR: 0.000655\n",
            "Epoch  21: Train Loss: 0.2993, Train Acc: 89.83%, Val Loss: 0.4254, Val Acc: 85.53%, Best Val Acc: 85.53%, LR: 0.000625\n",
            "Epoch  22: Train Loss: 0.2808, Train Acc: 90.42%, Val Loss: 0.4128, Val Acc: 86.49%, Best Val Acc: 86.49%, LR: 0.000594\n",
            "Epoch  23: Train Loss: 0.2650, Train Acc: 90.90%, Val Loss: 0.4068, Val Acc: 86.38%, Best Val Acc: 86.49%, LR: 0.000563\n",
            "Epoch  24: Train Loss: 0.2506, Train Acc: 91.30%, Val Loss: 0.4177, Val Acc: 86.46%, Best Val Acc: 86.49%, LR: 0.000532\n",
            "Epoch  25: Train Loss: 0.2428, Train Acc: 91.73%, Val Loss: 0.3961, Val Acc: 86.89%, Best Val Acc: 86.89%, LR: 0.000500\n",
            "Epoch  26: Train Loss: 0.2290, Train Acc: 92.26%, Val Loss: 0.4050, Val Acc: 87.05%, Best Val Acc: 87.05%, LR: 0.000469\n",
            "Epoch  27: Train Loss: 0.2157, Train Acc: 92.57%, Val Loss: 0.4217, Val Acc: 86.63%, Best Val Acc: 87.05%, LR: 0.000438\n",
            "Epoch  28: Train Loss: 0.2024, Train Acc: 93.03%, Val Loss: 0.4183, Val Acc: 86.54%, Best Val Acc: 87.05%, LR: 0.000407\n",
            "Epoch  29: Train Loss: 0.1938, Train Acc: 93.37%, Val Loss: 0.3971, Val Acc: 87.47%, Best Val Acc: 87.47%, LR: 0.000376\n",
            "Epoch  30: Train Loss: 0.1824, Train Acc: 93.83%, Val Loss: 0.3816, Val Acc: 88.12%, Best Val Acc: 88.12%, LR: 0.000346\n",
            "Epoch  31: Train Loss: 0.1709, Train Acc: 94.23%, Val Loss: 0.3843, Val Acc: 88.50%, Best Val Acc: 88.50%, LR: 0.000317\n",
            "Epoch  32: Train Loss: 0.1581, Train Acc: 94.71%, Val Loss: 0.3931, Val Acc: 88.10%, Best Val Acc: 88.50%, LR: 0.000288\n",
            "Epoch  33: Train Loss: 0.1464, Train Acc: 94.97%, Val Loss: 0.3935, Val Acc: 87.85%, Best Val Acc: 88.50%, LR: 0.000260\n",
            "Epoch  34: Train Loss: 0.1391, Train Acc: 95.27%, Val Loss: 0.3954, Val Acc: 88.36%, Best Val Acc: 88.50%, LR: 0.000233\n",
            "Epoch  35: Train Loss: 0.1300, Train Acc: 95.61%, Val Loss: 0.3895, Val Acc: 88.48%, Best Val Acc: 88.50%, LR: 0.000207\n",
            "Epoch  36: Train Loss: 0.1216, Train Acc: 95.73%, Val Loss: 0.3918, Val Acc: 88.43%, Best Val Acc: 88.50%, LR: 0.000182\n",
            "Epoch  37: Train Loss: 0.1121, Train Acc: 96.24%, Val Loss: 0.3928, Val Acc: 88.92%, Best Val Acc: 88.92%, LR: 0.000159\n",
            "Epoch  38: Train Loss: 0.1031, Train Acc: 96.48%, Val Loss: 0.3914, Val Acc: 88.83%, Best Val Acc: 88.92%, LR: 0.000136\n",
            "Epoch  39: Train Loss: 0.1014, Train Acc: 96.56%, Val Loss: 0.3886, Val Acc: 88.62%, Best Val Acc: 88.92%, LR: 0.000116\n",
            "Epoch  40: Train Loss: 0.0916, Train Acc: 96.83%, Val Loss: 0.3991, Val Acc: 88.74%, Best Val Acc: 88.92%, LR: 0.000096\n",
            "Epoch  41: Train Loss: 0.0895, Train Acc: 97.02%, Val Loss: 0.3931, Val Acc: 88.96%, Best Val Acc: 88.96%, LR: 0.000079\n",
            "Epoch  42: Train Loss: 0.0831, Train Acc: 97.17%, Val Loss: 0.3812, Val Acc: 89.24%, Best Val Acc: 89.24%, LR: 0.000063\n",
            "Epoch  43: Train Loss: 0.0783, Train Acc: 97.19%, Val Loss: 0.3979, Val Acc: 89.12%, Best Val Acc: 89.24%, LR: 0.000049\n",
            "Epoch  44: Train Loss: 0.0744, Train Acc: 97.42%, Val Loss: 0.3967, Val Acc: 89.26%, Best Val Acc: 89.26%, LR: 0.000036\n",
            "Epoch  45: Train Loss: 0.0716, Train Acc: 97.58%, Val Loss: 0.3985, Val Acc: 89.09%, Best Val Acc: 89.26%, LR: 0.000025\n",
            "Early stopping at epoch 45\n",
            "Best validation accuracy: 89.26%\n"
          ]
        }
      ]
    },
    {
      "cell_type": "markdown",
      "source": [
        "### テストデータでの評価"
      ],
      "metadata": {
        "id": "Bg833v8eZ9Jr"
      }
    },
    {
      "cell_type": "code",
      "source": [
        "# テストデータでの評価\n",
        "def evaluate_model(model, testloader):\n",
        "    model.eval()\n",
        "    correct = 0\n",
        "    total = 0\n",
        "    test_loss = 0.0\n",
        "    class_correct = list(0. for i in range(10))\n",
        "    class_total = list(0. for i in range(10))\n",
        "\n",
        "    with torch.no_grad():\n",
        "        for inputs, targets in testloader:\n",
        "            inputs, targets = inputs.to(device), targets.to(device)\n",
        "            outputs = model(inputs)\n",
        "            loss = criterion(outputs, targets)\n",
        "\n",
        "            test_loss += loss.item()\n",
        "            _, predicted = outputs.max(1)\n",
        "            total += targets.size(0)\n",
        "            correct += predicted.eq(targets).sum().item()\n",
        "\n",
        "            # クラス別精度の計算\n",
        "            c = (predicted == targets).squeeze()\n",
        "            for i in range(targets.size(0)):\n",
        "                label = targets[i]\n",
        "                class_correct[label] += c[i].item()\n",
        "                class_total[label] += 1\n",
        "\n",
        "    test_loss /= len(testloader)\n",
        "    test_acc = 100. * correct / total\n",
        "\n",
        "    print(f'\\nTest Results:')\n",
        "    print(f'Test Loss: {test_loss:.4f}')\n",
        "    print(f'Test Accuracy: {test_acc:.2f}%')\n",
        "\n",
        "    # クラス別精度の表示\n",
        "    classes = ('plane', 'car', 'bird', 'cat', 'deer', 'dog', 'frog', 'horse', 'ship', 'truck')\n",
        "    print(f'\\nClass-wise Accuracy:')\n",
        "    for i in range(10):\n",
        "        if class_total[i] > 0:\n",
        "            acc = 100 * class_correct[i] / class_total[i]\n",
        "            print(f'{classes[i]}: {acc:.2f}%')\n",
        "\n",
        "    return test_acc, test_loss\n",
        "\n",
        "# テスト評価\n",
        "test_accuracy, test_loss = evaluate_model(model, testloader)\n"
      ],
      "metadata": {
        "colab": {
          "base_uri": "https://localhost:8080/"
        },
        "id": "_ApDGTOHY25I",
        "outputId": "8cdc13f1-86d7-424f-a2d3-07a5df3ea9c1"
      },
      "execution_count": 7,
      "outputs": [
        {
          "output_type": "stream",
          "name": "stdout",
          "text": [
            "\n",
            "Test Results:\n",
            "Test Loss: 0.3913\n",
            "Test Accuracy: 90.44%\n",
            "\n",
            "Class-wise Accuracy:\n",
            "plane: 91.90%\n",
            "car: 95.40%\n",
            "bird: 86.50%\n",
            "cat: 82.10%\n",
            "deer: 91.50%\n",
            "dog: 84.40%\n",
            "frog: 90.90%\n",
            "horse: 92.10%\n",
            "ship: 94.90%\n",
            "truck: 94.70%\n"
          ]
        }
      ]
    },
    {
      "cell_type": "markdown",
      "source": [
        "### 損失と正解率の推移を可視化"
      ],
      "metadata": {
        "id": "iDO0tScgaEED"
      }
    },
    {
      "cell_type": "code",
      "source": [
        "# 結果の可視化\n",
        "def plot_training_history():\n",
        "    fig, (ax1, ax2) = plt.subplots(1, 2, figsize=(15, 5))\n",
        "\n",
        "    # 損失の推移\n",
        "    ax1.plot(train_losses, label='Training Loss', color='blue')\n",
        "    ax1.plot(val_losses, label='Validation Loss', color='red')\n",
        "    ax1.set_title('Training and Validation Loss')\n",
        "    ax1.set_xlabel('Epoch')\n",
        "    ax1.set_ylabel('Loss')\n",
        "    ax1.legend()\n",
        "    ax1.grid(True)\n",
        "\n",
        "    # 正解率の推移\n",
        "    ax2.plot(train_accuracies, label='Training Accuracy', color='blue')\n",
        "    ax2.plot(val_accuracies, label='Validation Accuracy', color='red')\n",
        "    ax2.set_title('Training and Validation Accuracy')\n",
        "    ax2.set_xlabel('Epoch')\n",
        "    ax2.set_ylabel('Accuracy (%)')\n",
        "    ax2.legend()\n",
        "    ax2.grid(True)\n",
        "\n",
        "    plt.tight_layout()\n",
        "    plt.show()\n",
        "\n",
        "# 訓練履歴の可視化\n",
        "plot_training_history()\n",
        "\n",
        "# モデルの保存\n",
        "# torch.save(model.state_dict(), 'cifar10_full_model.pth')\n",
        "# print(\"Model saved as 'cifar10_full_model.pth'\")\n",
        "\n",
        "print(f\"\\n=== 実験結果のまとめ ===\")\n",
        "print(f\"使用したデータ: CIFAR-10\")\n",
        "print(f\"最終テスト精度: {test_accuracy:.2f}%\")\n",
        "print(f\"訓練エポック数: {len(train_losses)}エポック\")"
      ],
      "metadata": {
        "colab": {
          "base_uri": "https://localhost:8080/",
          "height": 369
        },
        "id": "yaJSQ2N0sDF6",
        "outputId": "4c8329c4-4ebe-4693-da6d-25b3a3ae323e"
      },
      "execution_count": 8,
      "outputs": [
        {
          "output_type": "display_data",
          "data": {
            "text/plain": [
              "<Figure size 1500x500 with 2 Axes>"
            ],
            "image/png": "[encoded data removed]"
          },
          "metadata": {}
        },
        {
          "output_type": "stream",
          "name": "stdout",
          "text": [
            "\n",
            "=== 実験結果のまとめ ===\n",
            "使用したデータ: CIFAR-10\n",
            "最終テスト精度: 90.44%\n",
            "訓練エポック数: 45エポック\n"
          ]
        }
      ]
    },
    {
      "cell_type": "code",
      "source": [],
      "metadata": {
        "id": "WNn2cgXt1mei"
      },
      "execution_count": null,
      "outputs": []
    }
  ]
}