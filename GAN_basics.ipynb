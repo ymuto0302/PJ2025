{
  "nbformat": 4,
  "nbformat_minor": 0,
  "metadata": {
    "colab": {
      "provenance": [],
      "gpuType": "T4",
      "authorship_tag": "ABX9TyNGLSTV8+DdfScoqujtBRsl",
      "include_colab_link": true
    },
    "kernelspec": {
      "name": "python3",
      "display_name": "Python 3"
    },
    "language_info": {
      "name": "python"
    },
    "accelerator": "GPU"
  },
  "cells": [
    {
      "cell_type": "markdown",
      "metadata": {
        "id": "view-in-github",
        "colab_type": "text"
      },
      "source": [
        "<a href=\"https://colab.research.google.com/github/ymuto0302/PJ2025/blob/main/GAN_basics.ipynb\" target=\"_parent\"><img src=\"https://colab.research.google.com/assets/colab-badge.svg\" alt=\"Open In Colab\"/></a>"
      ]
    },
    {
      "cell_type": "markdown",
      "source": [
        "# 簡易なGAN実装"
      ],
      "metadata": {
        "id": "5ZQ0fMtlEzJP"
      }
    },
    {
      "cell_type": "code",
      "source": [
        "import torch.nn as nn\n",
        "import torch.optim as optim\n",
        "import torchvision\n",
        "import torchvision.transforms as transforms\n",
        "from torch.utils.data import DataLoader\n",
        "import matplotlib.pyplot as plt\n",
        "import numpy as np\n",
        "\n",
        "# GPU/CPUの設定\n",
        "device = torch.device(\"cuda\" if torch.cuda.is_available() else \"cpu\")\n",
        "print(f\"device: {device}\")"
      ],
      "metadata": {
        "colab": {
          "base_uri": "https://localhost:8080/"
        },
        "id": "s9ON_eitE2nV",
        "outputId": "39af46ee-37b6-4c1a-d252-f0801fe96039"
      },
      "execution_count": 16,
      "outputs": [
        {
          "output_type": "stream",
          "name": "stdout",
          "text": [
            "device: cuda\n"
          ]
        }
      ]
    },
    {
      "cell_type": "markdown",
      "source": [
        "## データローダーの設定\n",
        "MNIST データセットを持ってくる。"
      ],
      "metadata": {
        "id": "-E5LpLXvE_cS"
      }
    },
    {
      "cell_type": "code",
      "source": [
        "# データセットの準備\n",
        "transform = transforms.Compose([\n",
        "    transforms.ToTensor(),\n",
        "    transforms.Normalize((0.5,), (0.5,))  # -1 to 1の範囲に正規化\n",
        "])\n",
        "\n",
        "# MNISTデータセットのダウンロード\n",
        "print(\"MNISTデータセットをダウンロード中...\")\n",
        "mnist_dataset = torchvision.datasets.MNIST(\n",
        "    root='./data', train=True, download=True, transform=transform\n",
        ")\n",
        "dataloader = DataLoader(mnist_dataset, batch_size=64, shuffle=True)"
      ],
      "metadata": {
        "colab": {
          "base_uri": "https://localhost:8080/"
        },
        "id": "vvsSk6CkFGVe",
        "outputId": "5954d643-df60-4dfb-fee1-14049ae51db8"
      },
      "execution_count": 17,
      "outputs": [
        {
          "output_type": "stream",
          "name": "stdout",
          "text": [
            "MNISTデータセットをダウンロード中...\n"
          ]
        }
      ]
    },
    {
      "cell_type": "markdown",
      "source": [
        "## Generator"
      ],
      "metadata": {
        "id": "knuePrE6FKBH"
      }
    },
    {
      "cell_type": "code",
      "source": [
        "# Generator（生成器）の定義\n",
        "class Generator(nn.Module):\n",
        "    \"\"\"\n",
        "    GAN の Generator（生成器）クラス\n",
        "    ランダムノイズから28x28の画像を生成する全結合層ベースのネットワーク\n",
        "    \"\"\"\n",
        "    def __init__(self, nz=100, ngf=256, nc=1):\n",
        "        \"\"\"\n",
        "        Args:\n",
        "            nz (int): 入力ノイズベクトルの次元数（デフォルト: 100）\n",
        "                        - ランダムな潜在変数の次元\n",
        "                        - 一般的に64～512の値を使用\n",
        "            ngf (int): Generator のフィルタ数の基準値（デフォルト: 256）\n",
        "                        - ネットワークの容量を決定する基本単位\n",
        "                        - 大きいほど表現力が向上するが計算コストも増加\n",
        "            nc (int): 出力画像のチャンネル数（デフォルト: 1）\n",
        "                        - 1: グレースケール画像（MNIST等）\n",
        "                        - 3: カラー画像（RGB）\n",
        "        \"\"\"\n",
        "        super(Generator, self).__init__()\n",
        "        self.main = nn.Sequential(\n",
        "            # 入力: nz次元のノイズベクトル\n",
        "            nn.Linear(nz, ngf),\n",
        "            nn.BatchNorm1d(ngf), # バッチ正規化による学習の安定化\n",
        "            nn.ReLU(True),\n",
        "\n",
        "            nn.Linear(ngf, ngf * 2),\n",
        "            nn.BatchNorm1d(ngf * 2),\n",
        "            nn.ReLU(True),\n",
        "\n",
        "            nn.Linear(ngf * 2, ngf * 4),\n",
        "            nn.BatchNorm1d(ngf * 4),\n",
        "            nn.ReLU(True),\n",
        "\n",
        "            # 出力: 28x28の画像\n",
        "            nn.Linear(ngf * 4, nc * 28 * 28),\n",
        "            nn.Tanh()  # -1 to 1の範囲に出力\n",
        "        )\n",
        "\n",
        "    def forward(self, input):\n",
        "        output = self.main(input)\n",
        "        return output.view(-1, nc, 28, 28)"
      ],
      "metadata": {
        "id": "MPHEIpP3FMPw"
      },
      "execution_count": 18,
      "outputs": []
    },
    {
      "cell_type": "markdown",
      "source": [
        "## Discriminator"
      ],
      "metadata": {
        "id": "tk4Q-YueFPpL"
      }
    },
    {
      "cell_type": "code",
      "source": [
        "# Discriminator（判別器）の定義\n",
        "class Discriminator(nn.Module):\n",
        "    \"\"\"\n",
        "    GAN の Discriminator（判別器）クラス\n",
        "    28x28の画像を入力として、本物か偽物かを判定する二値分類器\n",
        "    \"\"\"\n",
        "    def __init__(self, nc=1, ndf=256):\n",
        "        \"\"\"\n",
        "        Args:\n",
        "            nc (int): 入力画像のチャンネル数（デフォルト: 1）\n",
        "                        - 1: グレースケール画像（MNIST等）\n",
        "                        - 3: カラー画像（RGB）\n",
        "            ndf (int): Discriminator のフィルタ数の基準値（デフォルト: 256）\n",
        "                        - ネットワークの容量を決定する基本単位\n",
        "                        - 大きいほど判別能力が向上するが過学習のリスクも増加\n",
        "        \"\"\"\n",
        "        super(Discriminator, self).__init__()\n",
        "        self.main = nn.Sequential(\n",
        "            # 入力: 28x28の画像\n",
        "            nn.Linear(nc * 28 * 28, ndf * 4),\n",
        "            nn.LeakyReLU(0.2, inplace=True),\n",
        "            nn.Dropout(0.3),\n",
        "\n",
        "            nn.Linear(ndf * 4, ndf * 2),\n",
        "            nn.LeakyReLU(0.2, inplace=True),\n",
        "            nn.Dropout(0.3),\n",
        "\n",
        "            nn.Linear(ndf * 2, ndf),\n",
        "            nn.LeakyReLU(0.2, inplace=True),\n",
        "            nn.Dropout(0.3),\n",
        "\n",
        "            # 出力: 本物/偽物の確率\n",
        "            nn.Linear(ndf, 1),\n",
        "            nn.Sigmoid()\n",
        "        )\n",
        "\n",
        "    def forward(self, input):\n",
        "        \"\"\"\n",
        "        Returns:\n",
        "            torch.Tensor: 本物である確率\n",
        "                            形状: (batch_size,) 例: (64,)\n",
        "                            値の範囲: 0.0〜1.0\n",
        "                            - 0.0に近い: 偽物と判定\n",
        "                            - 1.0に近い: 本物と判定\n",
        "                            - 0.5付近: 判定困難（理想的な学習終了状態）\n",
        "        \"\"\"\n",
        "        flattened = input.view(-1, 28 * 28)\n",
        "        return self.main(flattened)"
      ],
      "metadata": {
        "id": "9vw1ygRzFR26"
      },
      "execution_count": 19,
      "outputs": []
    },
    {
      "cell_type": "markdown",
      "source": [
        "## メイン実行部分"
      ],
      "metadata": {
        "id": "FAjsPWdiFWhu"
      }
    },
    {
      "cell_type": "code",
      "source": [
        "# モデルの初期化\n",
        "print(\"モデルの初期化...\")\n",
        "netG = Generator().to(device)\n",
        "netD = Discriminator().to(device)\n",
        "\n",
        "# 最適化器の設定\n",
        "optimizerG = optim.Adam(netG.parameters(), lr=0.0002, betas=(0.5, 0.999))\n",
        "optimizerD = optim.Adam(netD.parameters(), lr=0.0002, betas=(0.5, 0.999))\n",
        "\n",
        "# 損失関数\n",
        "criterion = nn.BCELoss()\n",
        "\n",
        "# 学習過程を記録するためのリスト\n",
        "G_losses = []\n",
        "D_losses = []\n",
        "\n",
        "# モデル訓練関数\n",
        "def train_gan(num_epochs=20, save_interval=5):\n",
        "    print(\"GANの訓練スタート...\")\n",
        "\n",
        "    for epoch in range(num_epochs):\n",
        "        epoch_g_loss = 0\n",
        "        epoch_d_loss = 0\n",
        "        num_batches = 0\n",
        "\n",
        "        for i, (real_images, _) in enumerate(dataloader):\n",
        "            # 時間短縮のため、最初の100バッチのみ処理\n",
        "            '''\n",
        "            if i >= 100:\n",
        "                break\n",
        "            '''\n",
        "\n",
        "            batch_size = real_images.size(0)\n",
        "            real_images = real_images.to(device)\n",
        "\n",
        "            # ラベルの作成\n",
        "            real_labels = torch.ones(batch_size, 1).to(device)\n",
        "            fake_labels = torch.zeros(batch_size, 1).to(device)\n",
        "\n",
        "            # ---------------------\n",
        "            # Discriminatorの学習\n",
        "            # ---------------------\n",
        "            netD.zero_grad()\n",
        "\n",
        "            # 本物画像での学習\n",
        "            output = netD(real_images)\n",
        "            errD_real = criterion(output, real_labels)\n",
        "\n",
        "            # 偽物画像での学習\n",
        "            noise = torch.randn(batch_size, 100).to(device)\n",
        "            fake_images = netG(noise)\n",
        "            output = netD(fake_images.detach())\n",
        "            errD_fake = criterion(output, fake_labels)\n",
        "\n",
        "            # Discriminatorの全体の損失\n",
        "            errD = errD_real + errD_fake\n",
        "            errD.backward()\n",
        "            optimizerD.step()\n",
        "\n",
        "            # ---------------------\n",
        "            # Generatorの学習\n",
        "            # ---------------------\n",
        "            netG.zero_grad()\n",
        "\n",
        "            # Generatorが作った画像をDiscriminatorに判定させる\n",
        "            output = netD(fake_images)\n",
        "            errG = criterion(output, real_labels)  # 本物ラベルで学習\n",
        "            errG.backward()\n",
        "            optimizerG.step()\n",
        "\n",
        "            epoch_g_loss += errG.item()\n",
        "            epoch_d_loss += errD.item()\n",
        "            num_batches += 1\n",
        "\n",
        "        # エポックごとの平均損失\n",
        "        avg_g_loss = epoch_g_loss / num_batches\n",
        "        avg_d_loss = epoch_d_loss / num_batches\n",
        "        G_losses.append(avg_g_loss)\n",
        "        D_losses.append(avg_d_loss)\n",
        "\n",
        "        print(f'Epoch [{epoch+1}/{num_epochs}] '\n",
        "              f'Loss_D: {avg_d_loss:.4f} '\n",
        "              f'Loss_G: {avg_g_loss:.4f}')\n",
        "\n",
        "        # 定期的に生成画像を表示\n",
        "        if (epoch + 1) % save_interval == 0:\n",
        "            show_generated_images(epoch + 1)\n",
        "\n",
        "\n",
        "# 生成画像を表示する関数\n",
        "def show_generated_images(epoch, num_images=16):\n",
        "    netG.eval()\n",
        "    with torch.no_grad():\n",
        "        noise = torch.randn(num_images, 100).to(device)\n",
        "        fake_images = netG(noise)\n",
        "\n",
        "        # -1 to 1の範囲を 0 to 1に変換\n",
        "        fake_images = (fake_images + 1) / 2\n",
        "\n",
        "        # 画像を表示\n",
        "        fig, axes = plt.subplots(4, 4, figsize=(6, 6))\n",
        "        for i, ax in enumerate(axes.flat):\n",
        "            img = fake_images[i].cpu().squeeze().numpy()\n",
        "            ax.imshow(img, cmap='gray')\n",
        "            ax.axis('off')\n",
        "        plt.suptitle(f'Generated Images - Epoch {epoch}')\n",
        "        plt.tight_layout()\n",
        "        # plt.show()\n",
        "        fig.savefig(f'generated_images_epoch_{epoch:04}.png')\n",
        "        plt.close(fig) # 画面表示を防ぐためにfigureを閉じる\n",
        "\n",
        "    netG.train()\n",
        "\n",
        "# モデル訓練の実行\n",
        "train_gan(num_epochs=50, save_interval=5)"
      ],
      "metadata": {
        "colab": {
          "base_uri": "https://localhost:8080/"
        },
        "id": "phKy_VtMFoSh",
        "outputId": "a72c6a41-851c-4b60-b972-7ccf8e53d617"
      },
      "execution_count": 21,
      "outputs": [
        {
          "output_type": "stream",
          "name": "stdout",
          "text": [
            "モデルの初期化...\n",
            "GANの訓練スタート...\n",
            "Epoch [1/50] Loss_D: 1.0353 Loss_G: 1.5880\n",
            "Epoch [2/50] Loss_D: 0.9660 Loss_G: 1.5872\n",
            "Epoch [3/50] Loss_D: 1.0459 Loss_G: 1.3294\n",
            "Epoch [4/50] Loss_D: 1.1115 Loss_G: 1.2010\n",
            "Epoch [5/50] Loss_D: 1.1834 Loss_G: 1.0722\n",
            "Epoch [6/50] Loss_D: 1.2283 Loss_G: 0.9936\n",
            "Epoch [7/50] Loss_D: 1.2655 Loss_G: 0.9344\n",
            "Epoch [8/50] Loss_D: 1.2810 Loss_G: 0.9112\n",
            "Epoch [9/50] Loss_D: 1.2937 Loss_G: 0.8865\n",
            "Epoch [10/50] Loss_D: 1.3059 Loss_G: 0.8648\n",
            "Epoch [11/50] Loss_D: 1.3185 Loss_G: 0.8412\n",
            "Epoch [12/50] Loss_D: 1.3260 Loss_G: 0.8250\n",
            "Epoch [13/50] Loss_D: 1.3324 Loss_G: 0.8131\n",
            "Epoch [14/50] Loss_D: 1.3367 Loss_G: 0.8056\n",
            "Epoch [15/50] Loss_D: 1.3398 Loss_G: 0.7991\n",
            "Epoch [16/50] Loss_D: 1.3420 Loss_G: 0.7949\n",
            "Epoch [17/50] Loss_D: 1.3450 Loss_G: 0.7894\n",
            "Epoch [18/50] Loss_D: 1.3481 Loss_G: 0.7841\n",
            "Epoch [19/50] Loss_D: 1.3509 Loss_G: 0.7740\n",
            "Epoch [20/50] Loss_D: 1.3535 Loss_G: 0.7731\n",
            "Epoch [21/50] Loss_D: 1.3535 Loss_G: 0.7695\n",
            "Epoch [22/50] Loss_D: 1.3586 Loss_G: 0.7621\n",
            "Epoch [23/50] Loss_D: 1.3578 Loss_G: 0.7612\n",
            "Epoch [24/50] Loss_D: 1.3571 Loss_G: 0.7627\n",
            "Epoch [25/50] Loss_D: 1.3595 Loss_G: 0.7586\n",
            "Epoch [26/50] Loss_D: 1.3607 Loss_G: 0.7556\n",
            "Epoch [27/50] Loss_D: 1.3601 Loss_G: 0.7562\n",
            "Epoch [28/50] Loss_D: 1.3617 Loss_G: 0.7516\n",
            "Epoch [29/50] Loss_D: 1.3620 Loss_G: 0.7522\n",
            "Epoch [30/50] Loss_D: 1.3639 Loss_G: 0.7470\n",
            "Epoch [31/50] Loss_D: 1.3645 Loss_G: 0.7468\n",
            "Epoch [32/50] Loss_D: 1.3643 Loss_G: 0.7466\n",
            "Epoch [33/50] Loss_D: 1.3655 Loss_G: 0.7436\n",
            "Epoch [34/50] Loss_D: 1.3653 Loss_G: 0.7427\n",
            "Epoch [35/50] Loss_D: 1.3658 Loss_G: 0.7428\n",
            "Epoch [36/50] Loss_D: 1.3675 Loss_G: 0.7401\n",
            "Epoch [37/50] Loss_D: 1.3668 Loss_G: 0.7405\n",
            "Epoch [38/50] Loss_D: 1.3681 Loss_G: 0.7385\n",
            "Epoch [39/50] Loss_D: 1.3689 Loss_G: 0.7376\n",
            "Epoch [40/50] Loss_D: 1.3680 Loss_G: 0.7368\n",
            "Epoch [41/50] Loss_D: 1.3699 Loss_G: 0.7325\n",
            "Epoch [42/50] Loss_D: 1.3701 Loss_G: 0.7345\n",
            "Epoch [43/50] Loss_D: 1.3714 Loss_G: 0.7325\n",
            "Epoch [44/50] Loss_D: 1.3717 Loss_G: 0.7319\n",
            "Epoch [45/50] Loss_D: 1.3719 Loss_G: 0.7277\n",
            "Epoch [46/50] Loss_D: 1.3723 Loss_G: 0.7304\n",
            "Epoch [47/50] Loss_D: 1.3716 Loss_G: 0.7324\n",
            "Epoch [48/50] Loss_D: 1.3726 Loss_G: 0.7292\n",
            "Epoch [49/50] Loss_D: 1.3724 Loss_G: 0.7298\n",
            "Epoch [50/50] Loss_D: 1.3712 Loss_G: 0.7302\n"
          ]
        }
      ]
    },
    {
      "cell_type": "markdown",
      "source": [
        "## 学習曲線"
      ],
      "metadata": {
        "id": "Z1UfPwg9F6r3"
      }
    },
    {
      "cell_type": "code",
      "source": [
        "# 訓練データに対する損失の可視化\n",
        "def plot_losses():\n",
        "    plt.figure(figsize=(8, 3))\n",
        "    plt.plot(G_losses, label='Generator Loss')\n",
        "    plt.plot(D_losses, label='Discriminator Loss')\n",
        "    plt.xlabel('Epoch')\n",
        "    plt.ylabel('Loss')\n",
        "    plt.title('GAN Training Losses')\n",
        "    plt.legend()\n",
        "    plt.grid(True)\n",
        "    plt.show()\n",
        "\n",
        "plot_losses()"
      ],
      "metadata": {
        "colab": {
          "base_uri": "https://localhost:8080/",
          "height": 333
        },
        "id": "AgmYluvqGAAE",
        "outputId": "725dfb21-954b-4773-ca7b-07b7c42d5749"
      },
      "execution_count": 22,
      "outputs": [
        {
          "output_type": "display_data",
          "data": {
            "text/plain": [
              "<Figure size 800x300 with 1 Axes>"
            ],
            "image/png": "[encoded data removed]"
          },
          "metadata": {}
        }
      ]
    },
    {
      "cell_type": "markdown",
      "source": [
        "## 最終結果の表示"
      ],
      "metadata": {
        "id": "4htBuYkDGhku"
      }
    },
    {
      "cell_type": "code",
      "source": [
        "# 最終結果の表示\n",
        "print(\"\\n\" + \"=\" * 50)\n",
        "print(\"最終結果\")\n",
        "print(\"=\" * 50)\n",
        "show_generated_images(\"Final\", num_images=16)\n",
        "# (メモ)訓練過程での出力を抑えるため、表示しないこととした\n",
        "# → generated_images_epoch_Final.png を参照のこと"
      ],
      "metadata": {
        "colab": {
          "base_uri": "https://localhost:8080/"
        },
        "id": "h1chaq8LGkOA",
        "outputId": "8dfd8298-abb1-4f58-e6bf-aee20b13784e"
      },
      "execution_count": 23,
      "outputs": [
        {
          "output_type": "stream",
          "name": "stdout",
          "text": [
            "\n",
            "==================================================\n",
            "最終結果\n",
            "==================================================\n"
          ]
        }
      ]
    },
    {
      "cell_type": "markdown",
      "source": [
        "### 学習済みモデルの保存"
      ],
      "metadata": {
        "id": "MNxDRqBWGon_"
      }
    },
    {
      "cell_type": "code",
      "source": [
        "# 学習済みモデルの保存\n",
        "torch.save(netG.state_dict(), 'mnist_generator.pth')\n",
        "torch.save(netD.state_dict(), 'mnist_discriminator.pth')"
      ],
      "metadata": {
        "id": "OdDg35kEGsRM"
      },
      "execution_count": 24,
      "outputs": []
    },
    {
      "cell_type": "markdown",
      "source": [
        "## (参考) seed を変えて画像生成"
      ],
      "metadata": {
        "id": "fguSCA5aG3SI"
      }
    },
    {
      "cell_type": "code",
      "source": [
        "# 異なるノイズでの生成実験\n",
        "def experiment_with_noise():\n",
        "    netG.eval()\n",
        "\n",
        "    # 3つの異なるランダムシードで実験\n",
        "    seeds = [42, 123, 999]\n",
        "\n",
        "    fig, axes = plt.subplots(3, 4, figsize=(10, 8))\n",
        "\n",
        "    for i, seed in enumerate(seeds):\n",
        "        torch.manual_seed(seed)\n",
        "        noise = torch.randn(4, 100).to(device)\n",
        "\n",
        "        with torch.no_grad():\n",
        "            fake_images = netG(noise)\n",
        "            fake_images = (fake_images + 1) / 2\n",
        "\n",
        "        for j in range(4):\n",
        "            img = fake_images[j].cpu().squeeze().numpy()\n",
        "            axes[i, j].imshow(img, cmap='gray')\n",
        "            axes[i, j].axis('off')\n",
        "            axes[i, j].set_title(f'Seed {seed}')\n",
        "\n",
        "    plt.suptitle('Different Seeds Generate Different Images')\n",
        "    plt.tight_layout()\n",
        "    plt.show()\n",
        "\n",
        "    netG.train()\n",
        "\n",
        "# 実験実行\n",
        "experiment_with_noise()"
      ],
      "metadata": {
        "colab": {
          "base_uri": "https://localhost:8080/",
          "height": 738
        },
        "id": "ChWYpVuQ4XZZ",
        "outputId": "5bc3f06f-0be0-4941-bd92-c3137a61445a"
      },
      "execution_count": 25,
      "outputs": [
        {
          "output_type": "display_data",
          "data": {
            "text/plain": [
              "<Figure size 1000x800 with 12 Axes>"
            ],
            "image/png": "[encoded data removed]"
          },
          "metadata": {}
        }
      ]
    },
    {
      "cell_type": "code",
      "source": [
        "\n",
        "%matplotlib inline"
      ],
      "metadata": {
        "id": "QbzLPOo4_JX_"
      },
      "execution_count": 11,
      "outputs": []
    },
    {
      "cell_type": "code",
      "source": [],
      "metadata": {
        "id": "cxCyZjgo_T0k"
      },
      "execution_count": null,
      "outputs": []
    }
  ]
}